{
  "nbformat": 4,
  "nbformat_minor": 0,
  "metadata": {
    "colab": {
      "provenance": [],
      "authorship_tag": "ABX9TyMG1EtF1GUiEN9SSxmbrsEZ",
      "include_colab_link": true
    },
    "kernelspec": {
      "name": "python3",
      "display_name": "Python 3"
    },
    "language_info": {
      "name": "python"
    }
  },
  "cells": [
    {
      "cell_type": "markdown",
      "metadata": {
        "id": "view-in-github",
        "colab_type": "text"
      },
      "source": [
        "<a href=\"https://colab.research.google.com/github/joelmaf/fundamentos/blob/main/ALUNO_EDA.ipynb\" target=\"_parent\"><img src=\"https://colab.research.google.com/assets/colab-badge.svg\" alt=\"Open In Colab\"/></a>"
      ]
    },
    {
      "cell_type": "markdown",
      "source": [
        "# Definição do Problema: Regressão Linear\n",
        "\n",
        "* **Regressão**: predição de saídas contínuas, nota obtida com base em horas estudadas"
      ],
      "metadata": {
        "id": "a61pOq7olbKX"
      }
    },
    {
      "cell_type": "code",
      "source": [
        "#!pip install dash"
      ],
      "metadata": {
        "id": "dr_MBoPKvV0z"
      },
      "execution_count": null,
      "outputs": []
    },
    {
      "cell_type": "code",
      "source": [
        "import numpy as np\n",
        "import pandas as pd\n",
        "\n",
        "import matplotlib.pyplot as plt\n",
        "\n",
        "from sklearn.linear_model import LinearRegression\n",
        "from sklearn.model_selection import train_test_split\n",
        "\n",
        "import plotly.express as px\n",
        "import plotly.graph_objects as go\n",
        "from dash import Dash, dcc, html\n"
      ],
      "metadata": {
        "id": "iyOvtDCjliXA"
      },
      "execution_count": null,
      "outputs": []
    },
    {
      "cell_type": "markdown",
      "source": [
        "### Coleta dos dados"
      ],
      "metadata": {
        "id": "iZvYCu5mvWa2"
      }
    },
    {
      "cell_type": "code",
      "source": [
        "# Configurar semente para reprodutibilidade\n",
        "np.random.seed(42)\n",
        "\n",
        "# Definir \"Horas Estudadas\" entre 0 e 100\n",
        "Horas_Estudadas = 100 * np.random.rand(100, 1)\n",
        "\n",
        "# Definir \"Nota Obtida\" como uma função direta de \"Horas Estudadas\" com ruído\n",
        "# Exemplo: Nota obtida aumenta proporcionalmente ao aumento de horas estudadas, até o limite de 10\n",
        "Nota_Obtida = 0.1 * Horas_Estudadas + np.random.normal(0, 1, (100, 1))\n",
        "\n",
        "# Limitar notas para o intervalo de 0 a 10 (caso o ruído ultrapasse o limite superior)\n",
        "Nota_Obtida = np.clip(Nota_Obtida, 0, 10)\n",
        "\n",
        "\n",
        "df = pd.DataFrame({\n",
        "    \"Horas_Estudadas\": Horas_Estudadas.flatten(),\n",
        "    \"Nota_Obtida\": Nota_Obtida.flatten()\n",
        "})"
      ],
      "metadata": {
        "id": "Vh9o0VaAoAdg"
      },
      "execution_count": null,
      "outputs": []
    },
    {
      "cell_type": "markdown",
      "source": [
        "### Análise exploratória dos dados"
      ],
      "metadata": {
        "id": "3BWRzUxd0Y3a"
      }
    },
    {
      "cell_type": "code",
      "source": [
        "\n",
        "\n"
      ],
      "metadata": {
        "id": "yArMv781qr4V"
      },
      "execution_count": null,
      "outputs": []
    },
    {
      "cell_type": "code",
      "source": [
        "\n",
        "\n"
      ],
      "metadata": {
        "id": "j3Tz0lxOt9wa"
      },
      "execution_count": null,
      "outputs": []
    },
    {
      "cell_type": "code",
      "source": [
        "# Estatísticas Descritivas\n",
        "\n",
        "\n"
      ],
      "metadata": {
        "id": "0ZI8P6xV04EX"
      },
      "execution_count": null,
      "outputs": []
    },
    {
      "cell_type": "markdown",
      "source": [
        "#### Limpeza e transformação"
      ],
      "metadata": {
        "id": "2HoZEBVauEYL"
      }
    },
    {
      "cell_type": "code",
      "source": [
        "X = df['Horas_Estudadas'].values.reshape(-1, 1)\n",
        "y = df['Nota_Obtida'].values.reshape(-1, 1)"
      ],
      "metadata": {
        "id": "kQO_tCtWq3bz"
      },
      "execution_count": null,
      "outputs": []
    },
    {
      "cell_type": "markdown",
      "source": [
        "#### Visualização e análise"
      ],
      "metadata": {
        "id": "mB55e5dOuDbL"
      }
    },
    {
      "cell_type": "code",
      "source": [],
      "metadata": {
        "id": "oobRgvip04dQ"
      },
      "execution_count": null,
      "outputs": []
    },
    {
      "cell_type": "code",
      "source": [
        "# Histograma de Nota_Obtida\n",
        "plt.figure(figsize=(14, 6))\n",
        "\n",
        "\n",
        "plt.title('Distribuição das Notas Obtidas')\n",
        "plt.xlabel('Nota Obtida')\n",
        "plt.ylabel('Frequência')\n",
        "plt.show()"
      ],
      "metadata": {
        "id": "BJKsTTU304hH"
      },
      "execution_count": null,
      "outputs": []
    },
    {
      "cell_type": "code",
      "source": [
        "# Scatter plot para mostrar a relação entre Horas Estudadas e Nota Obtida\n",
        "plt.figure(figsize=(14, 6))\n",
        "\n",
        "\n",
        "plt.title('Relação entre Horas Estudadas e Nota Obtida')\n",
        "plt.xlabel('Horas Estudadas')\n",
        "plt.ylabel('Nota Obtida')\n",
        "plt.grid(True)\n",
        "plt.show()"
      ],
      "metadata": {
        "id": "7FJeQg3Xsa3U"
      },
      "execution_count": null,
      "outputs": []
    },
    {
      "cell_type": "code",
      "source": [
        "# Plot de linha para tendências de estudo\n",
        "dados_ordenados_corrigidos = df.sort_values(by=\"Horas_Estudadas\").reset_index(drop=True)\n",
        "\n",
        "plt.figure(figsize=(14, 6))\n",
        "plt.plot(dados_ordenados_corrigidos['Horas_Estudadas'], dados_ordenados_corrigidos['Nota_Obtida'], linestyle='-', marker='o', color='b', alpha=0.7)\n",
        "plt.title('Tendência entre Horas Estudadas e Nota Obtida')\n",
        "plt.xlabel('Horas Estudadas')\n",
        "plt.ylabel('Nota Obtida')\n",
        "plt.grid(True)\n",
        "plt.show()"
      ],
      "metadata": {
        "id": "b06Y40cAsa7t"
      },
      "execution_count": null,
      "outputs": []
    },
    {
      "cell_type": "code",
      "source": [
        "# Média de Nota Obtida por Faixa de Horas Estudadas\n",
        "\n",
        "# Definir faixas de horas estudadas e agrupar os dados\n",
        "intervalos = pd.cut(df['Horas_Estudadas'], bins=[0, 20, 40, 60, 80, 100])\n",
        "# Calcular a média de Nota Obtida para cada faixa de horas estudadas\n",
        "dados_por_intervalo = df.groupby(intervalos)['Nota_Obtida'].mean()\n",
        "\n",
        "plt.figure(figsize=(14, 6))\n",
        "dados_por_intervalo.plot(kind='bar', edgecolor='black', color='skyblue')\n",
        "plt.title('Média de Nota Obtida por Faixa de Horas Estudadas')\n",
        "plt.xlabel('Faixas de Horas Estudadas')\n",
        "plt.ylabel('Média de Nota Obtida')\n",
        "plt.show();"
      ],
      "metadata": {
        "id": "LhzAlKQmunx8"
      },
      "execution_count": null,
      "outputs": []
    },
    {
      "cell_type": "markdown",
      "source": [
        "# Dashboards"
      ],
      "metadata": {
        "id": "3CjxOPAVv3Rr"
      }
    },
    {
      "cell_type": "code",
      "source": [
        "# Inicializar o app Dash\n",
        "app = Dash(__name__)\n",
        "\n",
        "app.layout = html.Div([\n",
        "    html.H1(\"Dashboard de Visualização de Dados de Estudo e Desempenho\"),\n",
        "\n",
        "    # Gráfico de Barras - Média de Nota Obtida por Faixa de Horas Estudadas\n",
        "    dcc.Graph(\n",
        "        id='media-nota-faixa-horas',\n",
        "        figure=px.bar(dados_por_intervalo, x=dados_por_intervalo.index.astype(str), y=\"Nota_Obtida\",\n",
        "                      title=\"Média de Nota Obtida por Faixa de Horas Estudadas\",\n",
        "                      labels={\"x\": \"Faixa de Horas Estudadas\", \"y\": \"Média de Nota Obtida\"})\n",
        "    ),\n",
        "\n",
        "    # Gráfico de Dispersão com Linha de Regressão\n",
        "    dcc.Graph(\n",
        "        id='dispersao-horas-nota',\n",
        "        figure=px.scatter(df, x=\"Horas_Estudadas\", y=\"Nota_Obtida\", trendline=\"ols\",\n",
        "                          title=\"Relação entre Horas Estudadas e Nota Obtida\")\n",
        "    ),\n",
        "\n",
        "\n",
        "    # Gráfico Boxplot para Horas Estudadas e Nota Obtida\n",
        "    dcc.Graph(\n",
        "        id='boxplot-horas-nota',\n",
        "        figure=go.Figure(data=[\n",
        "            go.Box(y=df['Horas_Estudadas'], name=\"Horas Estudadas\"),\n",
        "            go.Box(y=df['Nota_Obtida'], name=\"Nota Obtida\")\n",
        "        ]).update_layout(title=\"Distribuição de Horas Estudadas e Nota Obtida\")\n",
        "    ),\n",
        "\n",
        "    # Heatmap de Correlação\n",
        "    dcc.Graph(\n",
        "        id='heatmap-correlacao',\n",
        "        figure=px.imshow(df.corr(), text_auto=True, aspect=\"auto\",\n",
        "                         title=\"Mapa de Correlação entre Horas Estudadas e Nota Obtida\")\n",
        "    )\n",
        "])\n",
        "\n",
        "# Executar o app\n",
        "if __name__ == '__main__':\n",
        "    app.run_server(debug=True)\n"
      ],
      "metadata": {
        "id": "xybtfE97vJj9"
      },
      "execution_count": null,
      "outputs": []
    },
    {
      "cell_type": "markdown",
      "source": [
        "\n",
        "python app.py\n",
        "O dashboard estará disponível localmente no navegador (geralmente no endereço http://127.0.0.1:8050)"
      ],
      "metadata": {
        "id": "1WcvHbpux534"
      }
    },
    {
      "cell_type": "markdown",
      "source": [
        "# Dividir os dados em treino e teste"
      ],
      "metadata": {
        "id": "WznIg7MnwGmM"
      }
    },
    {
      "cell_type": "code",
      "source": [
        "X_train, X_test, y_train, y_test = train_test_split(X, y, test_size=0.2)"
      ],
      "metadata": {
        "id": "8hUrJwzUwFMX"
      },
      "execution_count": null,
      "outputs": []
    },
    {
      "cell_type": "markdown",
      "source": [
        "# Treinar o modelo"
      ],
      "metadata": {
        "id": "W5V5UKqSvtAv"
      }
    },
    {
      "cell_type": "code",
      "execution_count": null,
      "metadata": {
        "id": "v1i2ksahlZ6Y"
      },
      "outputs": [],
      "source": [
        "# Ajustar o modelo de regressão linear\n",
        "model = LinearRegression()\n",
        "model.fit(X_train, y_train)"
      ]
    },
    {
      "cell_type": "code",
      "source": [
        "novo = [[12]]\n",
        "y_pred = model.predict(novo)\n",
        "y_pred"
      ],
      "metadata": {
        "id": "vlsOLxu-lpAW"
      },
      "execution_count": null,
      "outputs": []
    }
  ]
}