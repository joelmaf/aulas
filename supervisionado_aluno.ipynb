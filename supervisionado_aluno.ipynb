{
  "nbformat": 4,
  "nbformat_minor": 0,
  "metadata": {
    "colab": {
      "provenance": []
    },
    "kernelspec": {
      "name": "python3",
      "display_name": "Python 3"
    },
    "language_info": {
      "name": "python"
    }
  },
  "cells": [
    {
      "cell_type": "code",
      "source": [
        "# Importando as bibliotecas necessárias\n",
        "import pandas as pd\n",
        "from sklearn.model_selection import train_test_split\n",
        "from sklearn.linear_model import LinearRegression\n",
        "import matplotlib.pyplot as plt"
      ],
      "metadata": {
        "id": "uXwU0hl5xzEv"
      },
      "execution_count": null,
      "outputs": []
    },
    {
      "cell_type": "code",
      "source": [
        "# Criando um DataFrame de exemplo\n"
      ],
      "metadata": {
        "id": "dfM3DCYcx1Nn"
      },
      "execution_count": null,
      "outputs": []
    },
    {
      "cell_type": "code",
      "source": [
        "# Visualizando a linha de regressão\n",
        "plt.scatter(df['Horas_Estudadas'], df['Nota_Obtida'], color='blue')  # Dados originais\n",
        "plt.xlabel('Horas Estudadas')\n",
        "plt.ylabel('Nota Obtida')\n",
        "plt.show()"
      ],
      "metadata": {
        "id": "XWk3J6-B4O2D"
      },
      "execution_count": null,
      "outputs": []
    },
    {
      "cell_type": "code",
      "source": [
        "# Separando variáveis independentes (X) e dependentes (y)\n"
      ],
      "metadata": {
        "id": "fTNdXkjDynsy"
      },
      "execution_count": null,
      "outputs": []
    },
    {
      "cell_type": "code",
      "source": [
        "# Dividindo os dados em conjunto de treino e teste (80% treino, 20% teste)\n",
        "X_train, X_test, y_train, y_test = train_test_split(X, y, test_size=0.2, random_state=42)"
      ],
      "metadata": {
        "id": "Iytjw5mix24H"
      },
      "execution_count": null,
      "outputs": []
    },
    {
      "cell_type": "code",
      "source": [
        "# Criando e treinando o modelo de regressão linear\n"
      ],
      "metadata": {
        "id": "9uJ1Rq7hx5QX"
      },
      "execution_count": null,
      "outputs": []
    },
    {
      "cell_type": "code",
      "source": [
        "# Fazendo previsões de um valor novo\n",
        "novo = [[12]]\n"
      ],
      "metadata": {
        "id": "TtNZQcNEzKQd"
      },
      "execution_count": null,
      "outputs": []
    }
  ]
}